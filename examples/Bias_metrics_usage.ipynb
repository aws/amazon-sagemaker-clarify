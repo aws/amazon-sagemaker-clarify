{
 "cells": [
  {
   "cell_type": "markdown",
   "metadata": {},
   "source": [
    "# FAMLY Bias metrics example usage"
   ]
  },
  {
   "cell_type": "code",
   "execution_count": 1,
   "metadata": {},
   "outputs": [],
   "source": [
    "from famly.bias.report import *\n",
    "from famly.util.dataset import Datasets, german_lending_readable_values\n",
    "from typing import Dict\n",
    "from collections import defaultdict"
   ]
  },
  {
   "cell_type": "markdown",
   "metadata": {},
   "source": [
    "Get the [german lending dataset](https://archive.ics.uci.edu/ml/datasets/statlog+(german+credit+data)). Transform the values to human readable strings from the dataset description. Dataset is functionally equivalent.\n"
   ]
  },
  {
   "cell_type": "code",
   "execution_count": 2,
   "metadata": {},
   "outputs": [
    {
     "data": {
      "text/plain": [
       "(1000, 21)"
      ]
     },
     "execution_count": 2,
     "metadata": {},
     "output_type": "execute_result"
    }
   ],
   "source": [
    "datasets = Datasets()\n",
    "df = german_lending_readable_values(datasets('german_lending').train())\n",
    "df.shape"
   ]
  },
  {
   "cell_type": "code",
   "execution_count": 3,
   "metadata": {},
   "outputs": [
    {
     "data": {
      "text/html": [
       "<div>\n",
       "<style scoped>\n",
       "    .dataframe tbody tr th:only-of-type {\n",
       "        vertical-align: middle;\n",
       "    }\n",
       "\n",
       "    .dataframe tbody tr th {\n",
       "        vertical-align: top;\n",
       "    }\n",
       "\n",
       "    .dataframe thead th {\n",
       "        text-align: right;\n",
       "    }\n",
       "</style>\n",
       "<table border=\"1\" class=\"dataframe\">\n",
       "  <thead>\n",
       "    <tr style=\"text-align: right;\">\n",
       "      <th></th>\n",
       "      <th>CheckingAC_Status</th>\n",
       "      <th>MaturityMonths</th>\n",
       "      <th>CreditHistory</th>\n",
       "      <th>Purpose</th>\n",
       "      <th>LoanAmount</th>\n",
       "      <th>SavingsAC</th>\n",
       "      <th>Employment</th>\n",
       "      <th>InstalmentPctOfIncome</th>\n",
       "      <th>SexAndStatus</th>\n",
       "      <th>OtherDebts</th>\n",
       "      <th>...</th>\n",
       "      <th>Property</th>\n",
       "      <th>Age</th>\n",
       "      <th>OtherInstalmentPlans</th>\n",
       "      <th>Housing</th>\n",
       "      <th>NumExistingLoans</th>\n",
       "      <th>Job</th>\n",
       "      <th>Dependents</th>\n",
       "      <th>Telephone</th>\n",
       "      <th>ForeignWorker</th>\n",
       "      <th>target</th>\n",
       "    </tr>\n",
       "  </thead>\n",
       "  <tbody>\n",
       "    <tr>\n",
       "      <th>0</th>\n",
       "      <td>x &lt; 0 DM</td>\n",
       "      <td>6</td>\n",
       "      <td>critical accnt. / other credits</td>\n",
       "      <td>radio/tv</td>\n",
       "      <td>1169</td>\n",
       "      <td>unknown</td>\n",
       "      <td>x &gt;= 7 years</td>\n",
       "      <td>4</td>\n",
       "      <td>male single</td>\n",
       "      <td>none</td>\n",
       "      <td>...</td>\n",
       "      <td>real estate</td>\n",
       "      <td>67</td>\n",
       "      <td>none</td>\n",
       "      <td>own</td>\n",
       "      <td>2</td>\n",
       "      <td>skilled employee / official</td>\n",
       "      <td>1</td>\n",
       "      <td>yes</td>\n",
       "      <td>yes</td>\n",
       "      <td>1</td>\n",
       "    </tr>\n",
       "    <tr>\n",
       "      <th>1</th>\n",
       "      <td>0 &lt;= x &lt; 200 DM</td>\n",
       "      <td>48</td>\n",
       "      <td>existing credits paid</td>\n",
       "      <td>radio/tv</td>\n",
       "      <td>5951</td>\n",
       "      <td>x &lt; 100 DM</td>\n",
       "      <td>1 &lt;= x &lt; 4 years</td>\n",
       "      <td>2</td>\n",
       "      <td>female divorced/separated/married</td>\n",
       "      <td>none</td>\n",
       "      <td>...</td>\n",
       "      <td>real estate</td>\n",
       "      <td>22</td>\n",
       "      <td>none</td>\n",
       "      <td>own</td>\n",
       "      <td>1</td>\n",
       "      <td>skilled employee / official</td>\n",
       "      <td>1</td>\n",
       "      <td>none</td>\n",
       "      <td>yes</td>\n",
       "      <td>0</td>\n",
       "    </tr>\n",
       "    <tr>\n",
       "      <th>2</th>\n",
       "      <td>no checking account</td>\n",
       "      <td>12</td>\n",
       "      <td>critical accnt. / other credits</td>\n",
       "      <td>education</td>\n",
       "      <td>2096</td>\n",
       "      <td>x &lt; 100 DM</td>\n",
       "      <td>4 &lt;= x &lt; 7 years</td>\n",
       "      <td>2</td>\n",
       "      <td>male single</td>\n",
       "      <td>none</td>\n",
       "      <td>...</td>\n",
       "      <td>real estate</td>\n",
       "      <td>49</td>\n",
       "      <td>none</td>\n",
       "      <td>own</td>\n",
       "      <td>1</td>\n",
       "      <td>unskilled-resident</td>\n",
       "      <td>2</td>\n",
       "      <td>none</td>\n",
       "      <td>yes</td>\n",
       "      <td>1</td>\n",
       "    </tr>\n",
       "    <tr>\n",
       "      <th>3</th>\n",
       "      <td>x &lt; 0 DM</td>\n",
       "      <td>42</td>\n",
       "      <td>existing credits paid</td>\n",
       "      <td>forniture</td>\n",
       "      <td>7882</td>\n",
       "      <td>x &lt; 100 DM</td>\n",
       "      <td>4 &lt;= x &lt; 7 years</td>\n",
       "      <td>2</td>\n",
       "      <td>male single</td>\n",
       "      <td>guarantor</td>\n",
       "      <td>...</td>\n",
       "      <td>soc. savings / life insurance</td>\n",
       "      <td>45</td>\n",
       "      <td>none</td>\n",
       "      <td>for free</td>\n",
       "      <td>1</td>\n",
       "      <td>skilled employee / official</td>\n",
       "      <td>2</td>\n",
       "      <td>none</td>\n",
       "      <td>yes</td>\n",
       "      <td>1</td>\n",
       "    </tr>\n",
       "    <tr>\n",
       "      <th>4</th>\n",
       "      <td>x &lt; 0 DM</td>\n",
       "      <td>24</td>\n",
       "      <td>delay</td>\n",
       "      <td>new car</td>\n",
       "      <td>4870</td>\n",
       "      <td>x &lt; 100 DM</td>\n",
       "      <td>1 &lt;= x &lt; 4 years</td>\n",
       "      <td>3</td>\n",
       "      <td>male single</td>\n",
       "      <td>none</td>\n",
       "      <td>...</td>\n",
       "      <td>unknown</td>\n",
       "      <td>53</td>\n",
       "      <td>none</td>\n",
       "      <td>for free</td>\n",
       "      <td>2</td>\n",
       "      <td>skilled employee / official</td>\n",
       "      <td>2</td>\n",
       "      <td>none</td>\n",
       "      <td>yes</td>\n",
       "      <td>0</td>\n",
       "    </tr>\n",
       "  </tbody>\n",
       "</table>\n",
       "<p>5 rows × 21 columns</p>\n",
       "</div>"
      ],
      "text/plain": [
       "     CheckingAC_Status  MaturityMonths                    CreditHistory  \\\n",
       "0             x < 0 DM               6  critical accnt. / other credits   \n",
       "1      0 <= x < 200 DM              48            existing credits paid   \n",
       "2  no checking account              12  critical accnt. / other credits   \n",
       "3             x < 0 DM              42            existing credits paid   \n",
       "4             x < 0 DM              24                            delay   \n",
       "\n",
       "     Purpose  LoanAmount   SavingsAC        Employment  InstalmentPctOfIncome  \\\n",
       "0   radio/tv        1169     unknown      x >= 7 years                      4   \n",
       "1   radio/tv        5951  x < 100 DM  1 <= x < 4 years                      2   \n",
       "2  education        2096  x < 100 DM  4 <= x < 7 years                      2   \n",
       "3  forniture        7882  x < 100 DM  4 <= x < 7 years                      2   \n",
       "4    new car        4870  x < 100 DM  1 <= x < 4 years                      3   \n",
       "\n",
       "                        SexAndStatus OtherDebts  ...  \\\n",
       "0                        male single       none  ...   \n",
       "1  female divorced/separated/married       none  ...   \n",
       "2                        male single       none  ...   \n",
       "3                        male single  guarantor  ...   \n",
       "4                        male single       none  ...   \n",
       "\n",
       "                        Property Age  OtherInstalmentPlans   Housing  \\\n",
       "0                    real estate  67                  none       own   \n",
       "1                    real estate  22                  none       own   \n",
       "2                    real estate  49                  none       own   \n",
       "3  soc. savings / life insurance  45                  none  for free   \n",
       "4                        unknown  53                  none  for free   \n",
       "\n",
       "  NumExistingLoans                          Job Dependents  Telephone  \\\n",
       "0                2  skilled employee / official          1        yes   \n",
       "1                1  skilled employee / official          1       none   \n",
       "2                1           unskilled-resident          2       none   \n",
       "3                1  skilled employee / official          2       none   \n",
       "4                2  skilled employee / official          2       none   \n",
       "\n",
       "  ForeignWorker target  \n",
       "0           yes      1  \n",
       "1           yes      0  \n",
       "2           yes      1  \n",
       "3           yes      1  \n",
       "4           yes      0  \n",
       "\n",
       "[5 rows x 21 columns]"
      ]
     },
     "execution_count": 3,
     "metadata": {},
     "output_type": "execute_result"
    }
   ],
   "source": [
    "df.head()"
   ]
  },
  {
   "cell_type": "code",
   "execution_count": null,
   "metadata": {},
   "outputs": [],
   "source": []
  },
  {
   "cell_type": "code",
   "execution_count": 4,
   "metadata": {},
   "outputs": [],
   "source": [
    "import seaborn as sns"
   ]
  },
  {
   "cell_type": "code",
   "execution_count": 5,
   "metadata": {},
   "outputs": [
    {
     "data": {
      "text/plain": [
       "<seaborn.axisgrid.PairGrid at 0x7fe7ba4c1b70>"
      ]
     },
     "execution_count": 5,
     "metadata": {},
     "output_type": "execute_result"
    },
    {
     "data": {
      "image/png": "[encoded data removed]",
      "text/plain": [
       "<Figure size 540x540 with 12 Axes>"
      ]
     },
     "metadata": {
      "needs_background": "light"
     },
     "output_type": "display_data"
    }
   ],
   "source": [
    "sns.pairplot(df[['Age','LoanAmount','MaturityMonths']])"
   ]
  },
  {
   "cell_type": "code",
   "execution_count": 6,
   "metadata": {},
   "outputs": [
    {
     "data": {
      "text/plain": [
       "<matplotlib.axes._subplots.AxesSubplot at 0x7fe7b397e748>"
      ]
     },
     "execution_count": 6,
     "metadata": {},
     "output_type": "execute_result"
    },
    {
     "data": {
      "image/png": "[encoded data removed]",
      "text/plain": [
       "<Figure size 432x288 with 1 Axes>"
      ]
     },
     "metadata": {
      "needs_background": "light"
     },
     "output_type": "display_data"
    }
   ],
   "source": [
    "sns.countplot(df['ForeignWorker'])"
   ]
  },
  {
   "cell_type": "markdown",
   "metadata": {},
   "source": [
    "## Calculate pre-training bias metrics"
   ]
  },
  {
   "cell_type": "code",
   "execution_count": 7,
   "metadata": {},
   "outputs": [],
   "source": [
    "# Measure bias when the attribute ForeignWorker is true.\n",
    "facet_column = FacetCategoricalColumn('ForeignWorker')"
   ]
  },
  {
   "cell_type": "code",
   "execution_count": 8,
   "metadata": {},
   "outputs": [],
   "source": [
    "report = bias_report(df, facet_column, 'target')"
   ]
  },
  {
   "cell_type": "code",
   "execution_count": 9,
   "metadata": {},
   "outputs": [
    {
     "data": {
      "text/plain": [
       "{'CI': {'yes': -0.926, 'no': 0.926}}"
      ]
     },
     "execution_count": 9,
     "metadata": {},
     "output_type": "execute_result"
    }
   ],
   "source": [
    "report"
   ]
  },
  {
   "cell_type": "markdown",
   "metadata": {},
   "source": [
    "## Train a CatBoost classifier"
   ]
  },
  {
   "cell_type": "code",
   "execution_count": 10,
   "metadata": {},
   "outputs": [],
   "source": [
    "from catboost import Pool, CatBoostClassifier\n"
   ]
  },
  {
   "cell_type": "code",
   "execution_count": 11,
   "metadata": {},
   "outputs": [],
   "source": [
    "from sklearn.model_selection import train_test_split\n"
   ]
  },
  {
   "cell_type": "code",
   "execution_count": 12,
   "metadata": {},
   "outputs": [],
   "source": [
    "column_names = df.columns\n",
    "train_cols= list(set(column_names) - set(['target']))\n",
    "train, test = train_test_split(df, random_state=0)\n"
   ]
  },
  {
   "cell_type": "code",
   "execution_count": 13,
   "metadata": {},
   "outputs": [],
   "source": [
    "train_df = train[train_cols]\n",
    "test_df = test[train_cols]\n",
    "train_labels = train['target']\n",
    "test_labels = test['target']\n",
    "cat_features = train_df.select_dtypes(include='category').columns\n",
    "numeric_features = train_df.select_dtypes(include='number').columns"
   ]
  },
  {
   "cell_type": "code",
   "execution_count": 14,
   "metadata": {},
   "outputs": [
    {
     "name": "stdout",
     "output_type": "stream",
     "text": [
      "0:\tlearn: 0.6569165\ttotal: 55.7ms\tremaining: 502ms\n",
      "1:\tlearn: 0.6278780\ttotal: 61.3ms\tremaining: 245ms\n",
      "2:\tlearn: 0.6016431\ttotal: 66.9ms\tremaining: 156ms\n",
      "3:\tlearn: 0.5835659\ttotal: 72.5ms\tremaining: 109ms\n",
      "4:\tlearn: 0.5712490\ttotal: 78.4ms\tremaining: 78.4ms\n",
      "5:\tlearn: 0.5549430\ttotal: 83.7ms\tremaining: 55.8ms\n",
      "6:\tlearn: 0.5381219\ttotal: 88.9ms\tremaining: 38.1ms\n",
      "7:\tlearn: 0.5271915\ttotal: 94.3ms\tremaining: 23.6ms\n",
      "8:\tlearn: 0.5165053\ttotal: 99.7ms\tremaining: 11.1ms\n",
      "9:\tlearn: 0.5108599\ttotal: 105ms\tremaining: 0us\n"
     ]
    },
    {
     "data": {
      "text/plain": [
       "<catboost.core.CatBoostClassifier at 0x7fe7b0b12860>"
      ]
     },
     "execution_count": 14,
     "metadata": {},
     "output_type": "execute_result"
    }
   ],
   "source": [
    "test_pool = Pool(data=test_df, label=test_labels, cat_features=cat_features)\n",
    "train_pool = Pool(data=train_df, label=train_labels, cat_features=cat_features)\n",
    "model = CatBoostClassifier(iterations=10, learning_rate=0.1, depth=6)\n",
    "model.fit(train_pool,verbose=True)\n",
    "\n"
   ]
  },
  {
   "cell_type": "code",
   "execution_count": 15,
   "metadata": {},
   "outputs": [],
   "source": [
    "def plot_roc_curve(labels, p_pos_label):\n",
    "    from sklearn.metrics import roc_curve, auc\n",
    "    import matplotlib.pyplot as plt\n",
    "    fpr, tpr, thrs = roc_curve(labels, p_pos_label)\n",
    "    roc_auc = auc(fpr,tpr)\n",
    "    plt.figure()\n",
    "    lw = 2\n",
    "    plt.plot(fpr, tpr, color='darkorange',\n",
    "         lw=lw, label='ROC curve (area = %0.2f)' % roc_auc)\n",
    "    plt.plot([0, 1], [0, 1], color='navy', lw=lw, linestyle='--')\n",
    "    plt.xlim([0.0, 1.0])\n",
    "    plt.ylim([0.0, 1.05])\n",
    "    plt.xlabel('False Positive Rate')\n",
    "    plt.ylabel('True Positive Rate')\n",
    "    plt.title('Receiver operating characteristic')\n",
    "    plt.legend(loc=\"lower right\")\n",
    "    plt.show()"
   ]
  },
  {
   "cell_type": "code",
   "execution_count": 16,
   "metadata": {},
   "outputs": [],
   "source": [
    "y_test = model.predict_proba(test_pool)"
   ]
  },
  {
   "cell_type": "code",
   "execution_count": 17,
   "metadata": {},
   "outputs": [],
   "source": [
    "test_labels_binary=test_labels.to_numpy()\n"
   ]
  },
  {
   "cell_type": "code",
   "execution_count": 18,
   "metadata": {},
   "outputs": [
    {
     "data": {
      "image/png": "[encoded data removed]",
      "text/plain": [
       "<Figure size 432x288 with 1 Axes>"
      ]
     },
     "metadata": {
      "needs_background": "light"
     },
     "output_type": "display_data"
    }
   ],
   "source": [
    "plot_roc_curve(test_labels_binary, y_test[:,1])"
   ]
  },
  {
   "cell_type": "code",
   "execution_count": 19,
   "metadata": {},
   "outputs": [
    {
     "data": {
      "text/plain": [
       "20"
      ]
     },
     "execution_count": 19,
     "metadata": {},
     "output_type": "execute_result"
    }
   ],
   "source": [
    "len(model.feature_importances_)\n"
   ]
  },
  {
   "cell_type": "code",
   "execution_count": 20,
   "metadata": {},
   "outputs": [],
   "source": [
    "from sklearn.linear_model import LogisticRegression\n",
    "from sklearn.preprocessing import OneHotEncoder"
   ]
  },
  {
   "cell_type": "code",
   "execution_count": 21,
   "metadata": {},
   "outputs": [],
   "source": [
    "housing = train_df['Housing'].to_numpy()\n",
    "housing = housing.reshape(-1,1)"
   ]
  },
  {
   "cell_type": "code",
   "execution_count": 22,
   "metadata": {},
   "outputs": [],
   "source": [
    "def onehot(df, cat_features) -> pd.DataFrame:\n",
    "    enc = OneHotEncoder(sparse=False)\n",
    "    enc.fit(df[cat_features])\n",
    "    res = enc.transform(df[cat_features])\n",
    "    encoded_feature_names = enc.get_feature_names(cat_features)\n",
    "    df_onehot = pd.DataFrame(res, columns=encoded_feature_names, index=df.index)\n",
    "    other_features = list(set(df.columns)-set(cat_features))\n",
    "    df_onehot = pd.concat([df_onehot, df[other_features]], axis=1)\n",
    "    df_onehot[other_features] = df[other_features]\n",
    "    return df_onehot, encoded_feature_names"
   ]
  },
  {
   "cell_type": "code",
   "execution_count": 23,
   "metadata": {},
   "outputs": [],
   "source": [
    "train_df_onehot, encoded_feature_names = onehot(train_df, cat_features)"
   ]
  },
  {
   "cell_type": "code",
   "execution_count": 24,
   "metadata": {},
   "outputs": [],
   "source": [
    "test_df_onehot, encoded_feature_names_ = onehot(test_df, cat_features)"
   ]
  },
  {
   "cell_type": "code",
   "execution_count": 25,
   "metadata": {},
   "outputs": [
    {
     "data": {
      "text/html": [
       "<div>\n",
       "<style scoped>\n",
       "    .dataframe tbody tr th:only-of-type {\n",
       "        vertical-align: middle;\n",
       "    }\n",
       "\n",
       "    .dataframe tbody tr th {\n",
       "        vertical-align: top;\n",
       "    }\n",
       "\n",
       "    .dataframe thead th {\n",
       "        text-align: right;\n",
       "    }\n",
       "</style>\n",
       "<table border=\"1\" class=\"dataframe\">\n",
       "  <thead>\n",
       "    <tr style=\"text-align: right;\">\n",
       "      <th></th>\n",
       "      <th>SexAndStatus_female divorced/separated/married</th>\n",
       "      <th>SexAndStatus_male divorced/separated</th>\n",
       "      <th>SexAndStatus_male married/widowed</th>\n",
       "      <th>SexAndStatus_male single</th>\n",
       "      <th>Property_car or other</th>\n",
       "      <th>Property_real estate</th>\n",
       "      <th>Property_soc. savings / life insurance</th>\n",
       "      <th>Property_unknown</th>\n",
       "      <th>Purpose_appliances</th>\n",
       "      <th>Purpose_business</th>\n",
       "      <th>...</th>\n",
       "      <th>CheckingAC_Status_no checking account</th>\n",
       "      <th>CheckingAC_Status_x &lt; 0 DM</th>\n",
       "      <th>CheckingAC_Status_x &gt;= 200DM</th>\n",
       "      <th>InstalmentPctOfIncome</th>\n",
       "      <th>LoanAmount</th>\n",
       "      <th>NumExistingLoans</th>\n",
       "      <th>MaturityMonths</th>\n",
       "      <th>PresentResidenceYears</th>\n",
       "      <th>Age</th>\n",
       "      <th>Dependents</th>\n",
       "    </tr>\n",
       "  </thead>\n",
       "  <tbody>\n",
       "    <tr>\n",
       "      <th>993</th>\n",
       "      <td>0.0</td>\n",
       "      <td>0.0</td>\n",
       "      <td>0.0</td>\n",
       "      <td>1.0</td>\n",
       "      <td>0.0</td>\n",
       "      <td>0.0</td>\n",
       "      <td>1.0</td>\n",
       "      <td>0.0</td>\n",
       "      <td>0.0</td>\n",
       "      <td>0.0</td>\n",
       "      <td>...</td>\n",
       "      <td>0.0</td>\n",
       "      <td>1.0</td>\n",
       "      <td>0.0</td>\n",
       "      <td>4</td>\n",
       "      <td>3959</td>\n",
       "      <td>1</td>\n",
       "      <td>36</td>\n",
       "      <td>3</td>\n",
       "      <td>30</td>\n",
       "      <td>1</td>\n",
       "    </tr>\n",
       "    <tr>\n",
       "      <th>859</th>\n",
       "      <td>0.0</td>\n",
       "      <td>0.0</td>\n",
       "      <td>0.0</td>\n",
       "      <td>1.0</td>\n",
       "      <td>0.0</td>\n",
       "      <td>1.0</td>\n",
       "      <td>0.0</td>\n",
       "      <td>0.0</td>\n",
       "      <td>0.0</td>\n",
       "      <td>0.0</td>\n",
       "      <td>...</td>\n",
       "      <td>1.0</td>\n",
       "      <td>0.0</td>\n",
       "      <td>0.0</td>\n",
       "      <td>1</td>\n",
       "      <td>3577</td>\n",
       "      <td>1</td>\n",
       "      <td>9</td>\n",
       "      <td>2</td>\n",
       "      <td>26</td>\n",
       "      <td>2</td>\n",
       "    </tr>\n",
       "    <tr>\n",
       "      <th>298</th>\n",
       "      <td>0.0</td>\n",
       "      <td>0.0</td>\n",
       "      <td>0.0</td>\n",
       "      <td>1.0</td>\n",
       "      <td>0.0</td>\n",
       "      <td>1.0</td>\n",
       "      <td>0.0</td>\n",
       "      <td>0.0</td>\n",
       "      <td>0.0</td>\n",
       "      <td>0.0</td>\n",
       "      <td>...</td>\n",
       "      <td>1.0</td>\n",
       "      <td>0.0</td>\n",
       "      <td>0.0</td>\n",
       "      <td>3</td>\n",
       "      <td>2515</td>\n",
       "      <td>1</td>\n",
       "      <td>18</td>\n",
       "      <td>4</td>\n",
       "      <td>43</td>\n",
       "      <td>1</td>\n",
       "    </tr>\n",
       "    <tr>\n",
       "      <th>553</th>\n",
       "      <td>0.0</td>\n",
       "      <td>0.0</td>\n",
       "      <td>0.0</td>\n",
       "      <td>1.0</td>\n",
       "      <td>1.0</td>\n",
       "      <td>0.0</td>\n",
       "      <td>0.0</td>\n",
       "      <td>0.0</td>\n",
       "      <td>0.0</td>\n",
       "      <td>0.0</td>\n",
       "      <td>...</td>\n",
       "      <td>0.0</td>\n",
       "      <td>0.0</td>\n",
       "      <td>0.0</td>\n",
       "      <td>4</td>\n",
       "      <td>1995</td>\n",
       "      <td>1</td>\n",
       "      <td>12</td>\n",
       "      <td>1</td>\n",
       "      <td>27</td>\n",
       "      <td>1</td>\n",
       "    </tr>\n",
       "    <tr>\n",
       "      <th>672</th>\n",
       "      <td>0.0</td>\n",
       "      <td>0.0</td>\n",
       "      <td>0.0</td>\n",
       "      <td>1.0</td>\n",
       "      <td>0.0</td>\n",
       "      <td>0.0</td>\n",
       "      <td>1.0</td>\n",
       "      <td>0.0</td>\n",
       "      <td>0.0</td>\n",
       "      <td>0.0</td>\n",
       "      <td>...</td>\n",
       "      <td>1.0</td>\n",
       "      <td>0.0</td>\n",
       "      <td>0.0</td>\n",
       "      <td>2</td>\n",
       "      <td>10366</td>\n",
       "      <td>1</td>\n",
       "      <td>60</td>\n",
       "      <td>4</td>\n",
       "      <td>42</td>\n",
       "      <td>1</td>\n",
       "    </tr>\n",
       "  </tbody>\n",
       "</table>\n",
       "<p>5 rows × 61 columns</p>\n",
       "</div>"
      ],
      "text/plain": [
       "     SexAndStatus_female divorced/separated/married  \\\n",
       "993                                             0.0   \n",
       "859                                             0.0   \n",
       "298                                             0.0   \n",
       "553                                             0.0   \n",
       "672                                             0.0   \n",
       "\n",
       "     SexAndStatus_male divorced/separated  SexAndStatus_male married/widowed  \\\n",
       "993                                   0.0                                0.0   \n",
       "859                                   0.0                                0.0   \n",
       "298                                   0.0                                0.0   \n",
       "553                                   0.0                                0.0   \n",
       "672                                   0.0                                0.0   \n",
       "\n",
       "     SexAndStatus_male single  Property_car or other  Property_real estate  \\\n",
       "993                       1.0                    0.0                   0.0   \n",
       "859                       1.0                    0.0                   1.0   \n",
       "298                       1.0                    0.0                   1.0   \n",
       "553                       1.0                    1.0                   0.0   \n",
       "672                       1.0                    0.0                   0.0   \n",
       "\n",
       "     Property_soc. savings / life insurance  Property_unknown  \\\n",
       "993                                     1.0               0.0   \n",
       "859                                     0.0               0.0   \n",
       "298                                     0.0               0.0   \n",
       "553                                     0.0               0.0   \n",
       "672                                     1.0               0.0   \n",
       "\n",
       "     Purpose_appliances  Purpose_business  ...  \\\n",
       "993                 0.0               0.0  ...   \n",
       "859                 0.0               0.0  ...   \n",
       "298                 0.0               0.0  ...   \n",
       "553                 0.0               0.0  ...   \n",
       "672                 0.0               0.0  ...   \n",
       "\n",
       "     CheckingAC_Status_no checking account  CheckingAC_Status_x < 0 DM  \\\n",
       "993                                    0.0                         1.0   \n",
       "859                                    1.0                         0.0   \n",
       "298                                    1.0                         0.0   \n",
       "553                                    0.0                         0.0   \n",
       "672                                    1.0                         0.0   \n",
       "\n",
       "     CheckingAC_Status_x >= 200DM  InstalmentPctOfIncome  LoanAmount  \\\n",
       "993                           0.0                      4        3959   \n",
       "859                           0.0                      1        3577   \n",
       "298                           0.0                      3        2515   \n",
       "553                           0.0                      4        1995   \n",
       "672                           0.0                      2       10366   \n",
       "\n",
       "     NumExistingLoans  MaturityMonths  PresentResidenceYears  Age  Dependents  \n",
       "993                 1              36                      3   30           1  \n",
       "859                 1               9                      2   26           2  \n",
       "298                 1              18                      4   43           1  \n",
       "553                 1              12                      1   27           1  \n",
       "672                 1              60                      4   42           1  \n",
       "\n",
       "[5 rows x 61 columns]"
      ]
     },
     "execution_count": 25,
     "metadata": {},
     "output_type": "execute_result"
    }
   ],
   "source": [
    "test_df_onehot.head()"
   ]
  },
  {
   "cell_type": "code",
   "execution_count": 26,
   "metadata": {},
   "outputs": [],
   "source": [
    "assert (encoded_feature_names_ == encoded_feature_names).all()"
   ]
  },
  {
   "cell_type": "code",
   "execution_count": 27,
   "metadata": {},
   "outputs": [],
   "source": [
    "assert train_df_onehot.isnull().sum().sum()==0\n",
    "assert test_df_onehot.isnull().sum().sum()==0"
   ]
  },
  {
   "cell_type": "code",
   "execution_count": 28,
   "metadata": {},
   "outputs": [],
   "source": [
    "lrmodel = LogisticRegression()"
   ]
  },
  {
   "cell_type": "code",
   "execution_count": 29,
   "metadata": {},
   "outputs": [
    {
     "name": "stderr",
     "output_type": "stream",
     "text": [
      "/home/piotr/devel/thundera/famly/venv/lib/python3.6/site-packages/sklearn/linear_model/_logistic.py:764: ConvergenceWarning: lbfgs failed to converge (status=1):\n",
      "STOP: TOTAL NO. of ITERATIONS REACHED LIMIT.\n",
      "\n",
      "Increase the number of iterations (max_iter) or scale the data as shown in:\n",
      "    https://scikit-learn.org/stable/modules/preprocessing.html\n",
      "Please also refer to the documentation for alternative solver options:\n",
      "    https://scikit-learn.org/stable/modules/linear_model.html#logistic-regression\n",
      "  extra_warning_msg=_LOGISTIC_SOLVER_CONVERGENCE_MSG)\n"
     ]
    },
    {
     "data": {
      "text/plain": [
       "LogisticRegression()"
      ]
     },
     "execution_count": 29,
     "metadata": {},
     "output_type": "execute_result"
    }
   ],
   "source": [
    "lrmodel.fit(train_df_onehot, train_labels)"
   ]
  },
  {
   "cell_type": "code",
   "execution_count": 30,
   "metadata": {},
   "outputs": [],
   "source": [
    "y_pred_lr = lrmodel.predict_proba(test_df_onehot)"
   ]
  },
  {
   "cell_type": "code",
   "execution_count": 31,
   "metadata": {},
   "outputs": [
    {
     "data": {
      "text/plain": [
       "993    1\n",
       "859    1\n",
       "298    1\n",
       "553    1\n",
       "672    1\n",
       "      ..\n",
       "462    1\n",
       "356    1\n",
       "2      1\n",
       "478    1\n",
       "695    1\n",
       "Name: target, Length: 250, dtype: category\n",
       "Categories (2, int64): [0, 1]"
      ]
     },
     "execution_count": 31,
     "metadata": {},
     "output_type": "execute_result"
    }
   ],
   "source": [
    "test_labels"
   ]
  },
  {
   "cell_type": "code",
   "execution_count": 32,
   "metadata": {},
   "outputs": [
    {
     "data": {
      "image/png": "[encoded data removed]",
      "text/plain": [
       "<Figure size 432x288 with 1 Axes>"
      ]
     },
     "metadata": {
      "needs_background": "light"
     },
     "output_type": "display_data"
    }
   ],
   "source": [
    "plot_roc_curve(test_labels, y_pred_lr[:,1])"
   ]
  },
  {
   "cell_type": "code",
   "execution_count": 33,
   "metadata": {},
   "outputs": [
    {
     "data": {
      "text/plain": [
       "Index(['SexAndStatus_female divorced/separated/married',\n",
       "       'SexAndStatus_male divorced/separated',\n",
       "       'SexAndStatus_male married/widowed', 'SexAndStatus_male single',\n",
       "       'Property_car or other', 'Property_real estate',\n",
       "       'Property_soc. savings / life insurance', 'Property_unknown',\n",
       "       'Purpose_appliances', 'Purpose_business', 'Purpose_education',\n",
       "       'Purpose_forniture', 'Purpose_new car', 'Purpose_others',\n",
       "       'Purpose_radio/tv', 'Purpose_repairs', 'Purpose_retraining',\n",
       "       'Purpose_used car', 'Employment_1 <= x < 4 years',\n",
       "       'Employment_4 <= x < 7 years', 'Employment_unemployed',\n",
       "       'Employment_x < 1 year', 'Employment_x >= 7 years',\n",
       "       'OtherDebts_co-applicant', 'OtherDebts_guarantor', 'OtherDebts_none',\n",
       "       'ForeignWorker_no', 'ForeignWorker_yes', 'Housing_for free',\n",
       "       'Housing_own', 'Housing_rent', 'CreditHistory_all credits paid',\n",
       "       'CreditHistory_critical accnt. / other credits', 'CreditHistory_delay',\n",
       "       'CreditHistory_existing credits paid', 'CreditHistory_no credits',\n",
       "       'SavingsAC_100 <= x < 500 DM', 'SavingsAC_500 <= x < 1000 DM',\n",
       "       'SavingsAC_unknown', 'SavingsAC_x < 100 DM', 'SavingsAC_x >= 1000 DM',\n",
       "       'Telephone_none', 'Telephone_yes',\n",
       "       'Job_management / self-employed / highly qualified employee / officer',\n",
       "       'Job_skilled employee / official',\n",
       "       'Job_unemployed / unskilled-non-resident', 'Job_unskilled-resident',\n",
       "       'OtherInstalmentPlans_bank', 'OtherInstalmentPlans_none',\n",
       "       'OtherInstalmentPlans_stores', 'CheckingAC_Status_0 <= x < 200 DM',\n",
       "       'CheckingAC_Status_no checking account', 'CheckingAC_Status_x < 0 DM',\n",
       "       'CheckingAC_Status_x >= 200DM', 'InstalmentPctOfIncome', 'LoanAmount',\n",
       "       'NumExistingLoans', 'MaturityMonths', 'PresentResidenceYears', 'Age',\n",
       "       'Dependents'],\n",
       "      dtype='object')"
      ]
     },
     "execution_count": 33,
     "metadata": {},
     "output_type": "execute_result"
    }
   ],
   "source": [
    "train_df_onehot.columns"
   ]
  },
  {
   "cell_type": "code",
   "execution_count": 34,
   "metadata": {},
   "outputs": [
    {
     "data": {
      "text/plain": [
       "(250, 61)"
      ]
     },
     "execution_count": 34,
     "metadata": {},
     "output_type": "execute_result"
    }
   ],
   "source": [
    "test_df_onehot.shape"
   ]
  },
  {
   "cell_type": "code",
   "execution_count": 35,
   "metadata": {},
   "outputs": [],
   "source": [
    "def map_back(columns, cat_columns, encoded_columns) -> Dict[str, str]:\n",
    "    res = {}\n",
    "    for ec in encoded_columns:\n",
    "        for cc in cat_columns:\n",
    "            if ec.startswith(cc):\n",
    "                res[ec] = cc\n",
    "    res.update(zip(columns, columns))\n",
    "    return res\n",
    "                \n",
    "    "
   ]
  },
  {
   "cell_type": "code",
   "execution_count": 36,
   "metadata": {},
   "outputs": [],
   "source": [
    "feat_map = map_back(test_df.columns, cat_features, encoded_feature_names_)"
   ]
  },
  {
   "cell_type": "code",
   "execution_count": 37,
   "metadata": {},
   "outputs": [],
   "source": [
    "lr_weights = list(zip(train_df_onehot.columns, lrmodel.coef_.tolist()[0]))"
   ]
  },
  {
   "cell_type": "code",
   "execution_count": 38,
   "metadata": {},
   "outputs": [
    {
     "data": {
      "text/plain": [
       "[('SexAndStatus_female divorced/separated/married', 0.029982468005041472),\n",
       " ('SexAndStatus_male divorced/separated', -0.14494981701320533),\n",
       " ('SexAndStatus_male married/widowed', 0.12600019191788947),\n",
       " ('SexAndStatus_male single', 0.24355444240646448),\n",
       " ('Property_car or other', -0.21407317564369785)]"
      ]
     },
     "execution_count": 38,
     "metadata": {},
     "output_type": "execute_result"
    }
   ],
   "source": [
    "lr_weights[:5]"
   ]
  },
  {
   "cell_type": "code",
   "execution_count": 39,
   "metadata": {},
   "outputs": [],
   "source": [
    "feat_attrib = defaultdict(float)\n",
    "for k,v in lr_weights:\n",
    "    feat_attrib[feat_map[k]] += v\n",
    "sum = 0.0\n",
    "for k,v in feat_attrib.items():\n",
    "    sum += v\n",
    "for k in feat_attrib.keys():\n",
    "    feat_attrib[k] /= sum"
   ]
  },
  {
   "cell_type": "code",
   "execution_count": 40,
   "metadata": {},
   "outputs": [
    {
     "data": {
      "text/plain": [
       "defaultdict(float,\n",
       "            {'SexAndStatus': 0.08377845884670698,\n",
       "             'Property': 0.08377845884166643,\n",
       "             'Purpose': 0.08377845884256785,\n",
       "             'Employment': 0.08377845885882533,\n",
       "             'OtherDebts': 0.0837784588474404,\n",
       "             'ForeignWorker': 0.0837784588457332,\n",
       "             'Housing': 0.08377845885862976,\n",
       "             'CreditHistory': 0.08377845882259663,\n",
       "             'SavingsAC': 0.08377845883607742,\n",
       "             'Telephone': 0.08377845884747792,\n",
       "             'Job': 0.08377845884594524,\n",
       "             'OtherInstalmentPlans': 0.08377845884607098,\n",
       "             'CheckingAC_Status': 0.08377845886000515,\n",
       "             'InstalmentPctOfIncome': -0.08038247464987829,\n",
       "             'LoanAmount': -2.0430456665330116e-05,\n",
       "             'NumExistingLoans': -0.020346357113111082,\n",
       "             'MaturityMonths': -0.009622243575855305,\n",
       "             'PresentResidenceYears': 0.035745060727496204,\n",
       "             'Age': 0.00657157129496877,\n",
       "             'Dependents': -0.021065091226698272})"
      ]
     },
     "execution_count": 40,
     "metadata": {},
     "output_type": "execute_result"
    }
   ],
   "source": [
    "feat_attrib"
   ]
  },
  {
   "cell_type": "code",
   "execution_count": 41,
   "metadata": {},
   "outputs": [],
   "source": [
    "feat_attrib_df = pd.DataFrame(feat_attrib.items())"
   ]
  },
  {
   "cell_type": "code",
   "execution_count": 42,
   "metadata": {},
   "outputs": [
    {
     "data": {
      "text/html": [
       "<div>\n",
       "<style scoped>\n",
       "    .dataframe tbody tr th:only-of-type {\n",
       "        vertical-align: middle;\n",
       "    }\n",
       "\n",
       "    .dataframe tbody tr th {\n",
       "        vertical-align: top;\n",
       "    }\n",
       "\n",
       "    .dataframe thead th {\n",
       "        text-align: right;\n",
       "    }\n",
       "</style>\n",
       "<table border=\"1\" class=\"dataframe\">\n",
       "  <thead>\n",
       "    <tr style=\"text-align: right;\">\n",
       "      <th></th>\n",
       "      <th>0</th>\n",
       "      <th>1</th>\n",
       "    </tr>\n",
       "  </thead>\n",
       "  <tbody>\n",
       "    <tr>\n",
       "      <th>13</th>\n",
       "      <td>InstalmentPctOfIncome</td>\n",
       "      <td>-0.080382</td>\n",
       "    </tr>\n",
       "    <tr>\n",
       "      <th>19</th>\n",
       "      <td>Dependents</td>\n",
       "      <td>-0.021065</td>\n",
       "    </tr>\n",
       "    <tr>\n",
       "      <th>15</th>\n",
       "      <td>NumExistingLoans</td>\n",
       "      <td>-0.020346</td>\n",
       "    </tr>\n",
       "    <tr>\n",
       "      <th>16</th>\n",
       "      <td>MaturityMonths</td>\n",
       "      <td>-0.009622</td>\n",
       "    </tr>\n",
       "    <tr>\n",
       "      <th>14</th>\n",
       "      <td>LoanAmount</td>\n",
       "      <td>-0.000020</td>\n",
       "    </tr>\n",
       "    <tr>\n",
       "      <th>18</th>\n",
       "      <td>Age</td>\n",
       "      <td>0.006572</td>\n",
       "    </tr>\n",
       "    <tr>\n",
       "      <th>17</th>\n",
       "      <td>PresentResidenceYears</td>\n",
       "      <td>0.035745</td>\n",
       "    </tr>\n",
       "    <tr>\n",
       "      <th>7</th>\n",
       "      <td>CreditHistory</td>\n",
       "      <td>0.083778</td>\n",
       "    </tr>\n",
       "    <tr>\n",
       "      <th>8</th>\n",
       "      <td>SavingsAC</td>\n",
       "      <td>0.083778</td>\n",
       "    </tr>\n",
       "    <tr>\n",
       "      <th>1</th>\n",
       "      <td>Property</td>\n",
       "      <td>0.083778</td>\n",
       "    </tr>\n",
       "    <tr>\n",
       "      <th>2</th>\n",
       "      <td>Purpose</td>\n",
       "      <td>0.083778</td>\n",
       "    </tr>\n",
       "    <tr>\n",
       "      <th>5</th>\n",
       "      <td>ForeignWorker</td>\n",
       "      <td>0.083778</td>\n",
       "    </tr>\n",
       "    <tr>\n",
       "      <th>10</th>\n",
       "      <td>Job</td>\n",
       "      <td>0.083778</td>\n",
       "    </tr>\n",
       "    <tr>\n",
       "      <th>11</th>\n",
       "      <td>OtherInstalmentPlans</td>\n",
       "      <td>0.083778</td>\n",
       "    </tr>\n",
       "    <tr>\n",
       "      <th>0</th>\n",
       "      <td>SexAndStatus</td>\n",
       "      <td>0.083778</td>\n",
       "    </tr>\n",
       "    <tr>\n",
       "      <th>4</th>\n",
       "      <td>OtherDebts</td>\n",
       "      <td>0.083778</td>\n",
       "    </tr>\n",
       "    <tr>\n",
       "      <th>9</th>\n",
       "      <td>Telephone</td>\n",
       "      <td>0.083778</td>\n",
       "    </tr>\n",
       "    <tr>\n",
       "      <th>6</th>\n",
       "      <td>Housing</td>\n",
       "      <td>0.083778</td>\n",
       "    </tr>\n",
       "    <tr>\n",
       "      <th>3</th>\n",
       "      <td>Employment</td>\n",
       "      <td>0.083778</td>\n",
       "    </tr>\n",
       "    <tr>\n",
       "      <th>12</th>\n",
       "      <td>CheckingAC_Status</td>\n",
       "      <td>0.083778</td>\n",
       "    </tr>\n",
       "  </tbody>\n",
       "</table>\n",
       "</div>"
      ],
      "text/plain": [
       "                        0         1\n",
       "13  InstalmentPctOfIncome -0.080382\n",
       "19             Dependents -0.021065\n",
       "15       NumExistingLoans -0.020346\n",
       "16         MaturityMonths -0.009622\n",
       "14             LoanAmount -0.000020\n",
       "18                    Age  0.006572\n",
       "17  PresentResidenceYears  0.035745\n",
       "7           CreditHistory  0.083778\n",
       "8               SavingsAC  0.083778\n",
       "1                Property  0.083778\n",
       "2                 Purpose  0.083778\n",
       "5           ForeignWorker  0.083778\n",
       "10                    Job  0.083778\n",
       "11   OtherInstalmentPlans  0.083778\n",
       "0            SexAndStatus  0.083778\n",
       "4              OtherDebts  0.083778\n",
       "9               Telephone  0.083778\n",
       "6                 Housing  0.083778\n",
       "3              Employment  0.083778\n",
       "12      CheckingAC_Status  0.083778"
      ]
     },
     "execution_count": 42,
     "metadata": {},
     "output_type": "execute_result"
    }
   ],
   "source": [
    "feat_attrib_df.sort_values(by=1)"
   ]
  },
  {
   "cell_type": "code",
   "execution_count": 43,
   "metadata": {},
   "outputs": [
    {
     "data": {
      "text/html": [
       "<div>\n",
       "<style scoped>\n",
       "    .dataframe tbody tr th:only-of-type {\n",
       "        vertical-align: middle;\n",
       "    }\n",
       "\n",
       "    .dataframe tbody tr th {\n",
       "        vertical-align: top;\n",
       "    }\n",
       "\n",
       "    .dataframe thead th {\n",
       "        text-align: right;\n",
       "    }\n",
       "</style>\n",
       "<table border=\"1\" class=\"dataframe\">\n",
       "  <thead>\n",
       "    <tr style=\"text-align: right;\">\n",
       "      <th></th>\n",
       "      <th>0</th>\n",
       "      <th>1</th>\n",
       "    </tr>\n",
       "  </thead>\n",
       "  <tbody>\n",
       "    <tr>\n",
       "      <th>19</th>\n",
       "      <td>Dependents</td>\n",
       "      <td>0.000000</td>\n",
       "    </tr>\n",
       "    <tr>\n",
       "      <th>1</th>\n",
       "      <td>SexAndStatus</td>\n",
       "      <td>0.000000</td>\n",
       "    </tr>\n",
       "    <tr>\n",
       "      <th>14</th>\n",
       "      <td>Job</td>\n",
       "      <td>0.000000</td>\n",
       "    </tr>\n",
       "    <tr>\n",
       "      <th>3</th>\n",
       "      <td>Property</td>\n",
       "      <td>0.000000</td>\n",
       "    </tr>\n",
       "    <tr>\n",
       "      <th>4</th>\n",
       "      <td>Purpose</td>\n",
       "      <td>0.000000</td>\n",
       "    </tr>\n",
       "    <tr>\n",
       "      <th>5</th>\n",
       "      <td>Employment</td>\n",
       "      <td>0.000000</td>\n",
       "    </tr>\n",
       "    <tr>\n",
       "      <th>6</th>\n",
       "      <td>OtherDebts</td>\n",
       "      <td>0.000000</td>\n",
       "    </tr>\n",
       "    <tr>\n",
       "      <th>13</th>\n",
       "      <td>Telephone</td>\n",
       "      <td>0.000000</td>\n",
       "    </tr>\n",
       "    <tr>\n",
       "      <th>11</th>\n",
       "      <td>SavingsAC</td>\n",
       "      <td>0.000000</td>\n",
       "    </tr>\n",
       "    <tr>\n",
       "      <th>9</th>\n",
       "      <td>Housing</td>\n",
       "      <td>0.653287</td>\n",
       "    </tr>\n",
       "    <tr>\n",
       "      <th>12</th>\n",
       "      <td>LoanAmount</td>\n",
       "      <td>1.225308</td>\n",
       "    </tr>\n",
       "    <tr>\n",
       "      <th>7</th>\n",
       "      <td>ForeignWorker</td>\n",
       "      <td>2.419890</td>\n",
       "    </tr>\n",
       "    <tr>\n",
       "      <th>8</th>\n",
       "      <td>Age</td>\n",
       "      <td>2.698351</td>\n",
       "    </tr>\n",
       "    <tr>\n",
       "      <th>16</th>\n",
       "      <td>NumExistingLoans</td>\n",
       "      <td>4.633038</td>\n",
       "    </tr>\n",
       "    <tr>\n",
       "      <th>17</th>\n",
       "      <td>PresentResidenceYears</td>\n",
       "      <td>5.941462</td>\n",
       "    </tr>\n",
       "    <tr>\n",
       "      <th>15</th>\n",
       "      <td>OtherInstalmentPlans</td>\n",
       "      <td>6.410049</td>\n",
       "    </tr>\n",
       "    <tr>\n",
       "      <th>0</th>\n",
       "      <td>InstalmentPctOfIncome</td>\n",
       "      <td>8.614098</td>\n",
       "    </tr>\n",
       "    <tr>\n",
       "      <th>10</th>\n",
       "      <td>CreditHistory</td>\n",
       "      <td>11.037328</td>\n",
       "    </tr>\n",
       "    <tr>\n",
       "      <th>2</th>\n",
       "      <td>MaturityMonths</td>\n",
       "      <td>13.464641</td>\n",
       "    </tr>\n",
       "    <tr>\n",
       "      <th>18</th>\n",
       "      <td>CheckingAC_Status</td>\n",
       "      <td>42.902547</td>\n",
       "    </tr>\n",
       "  </tbody>\n",
       "</table>\n",
       "</div>"
      ],
      "text/plain": [
       "                        0          1\n",
       "19             Dependents   0.000000\n",
       "1            SexAndStatus   0.000000\n",
       "14                    Job   0.000000\n",
       "3                Property   0.000000\n",
       "4                 Purpose   0.000000\n",
       "5              Employment   0.000000\n",
       "6              OtherDebts   0.000000\n",
       "13              Telephone   0.000000\n",
       "11              SavingsAC   0.000000\n",
       "9                 Housing   0.653287\n",
       "12             LoanAmount   1.225308\n",
       "7           ForeignWorker   2.419890\n",
       "8                     Age   2.698351\n",
       "16       NumExistingLoans   4.633038\n",
       "17  PresentResidenceYears   5.941462\n",
       "15   OtherInstalmentPlans   6.410049\n",
       "0   InstalmentPctOfIncome   8.614098\n",
       "10          CreditHistory  11.037328\n",
       "2          MaturityMonths  13.464641\n",
       "18      CheckingAC_Status  42.902547"
      ]
     },
     "execution_count": 43,
     "metadata": {},
     "output_type": "execute_result"
    }
   ],
   "source": [
    "pd.DataFrame(list(zip(train_df.columns, model.feature_importances_.tolist()))).sort_values(by=1)"
   ]
  },
  {
   "cell_type": "code",
   "execution_count": 44,
   "metadata": {},
   "outputs": [],
   "source": [
    "import shap"
   ]
  },
  {
   "cell_type": "code",
   "execution_count": 45,
   "metadata": {},
   "outputs": [
    {
     "name": "stderr",
     "output_type": "stream",
     "text": [
      "Using 750 background data samples could cause slower run times. Consider using shap.sample(data, K) or shap.kmeans(data, K) to summarize the background as K samples.\n"
     ]
    }
   ],
   "source": [
    "explainer = shap.KernelExplainer(lrmodel.predict_proba, train_df_onehot, link=\"logit\")"
   ]
  },
  {
   "cell_type": "code",
   "execution_count": 46,
   "metadata": {},
   "outputs": [
    {
     "data": {
      "application/vnd.jupyter.widget-view+json": {
       "model_id": "1c6708f4a30543afb506bcd4a70b2b54",
       "version_major": 2,
       "version_minor": 0
      },
      "text/plain": [
       "HBox(children=(FloatProgress(value=0.0, max=250.0), HTML(value='')))"
      ]
     },
     "metadata": {},
     "output_type": "display_data"
    },
    {
     "name": "stdout",
     "output_type": "stream",
     "text": [
      "[[0. 0. 0. ... 0. 0. 0.]\n",
      " [0. 0. 0. ... 0. 0. 0.]\n",
      " [0. 0. 0. ... 0. 0. 0.]\n",
      " ...\n",
      " [0. 0. 0. ... 0. 0. 0.]\n",
      " [0. 0. 0. ... 0. 0. 0.]\n",
      " [0. 0. 0. ... 0. 0. 0.]]\n",
      "\n"
     ]
    },
    {
     "ename": "LinAlgError",
     "evalue": "Singular matrix",
     "output_type": "error",
     "traceback": [
      "\u001b[0;31m---------------------------------------------------------------------------\u001b[0m",
      "\u001b[0;31mLinAlgError\u001b[0m                               Traceback (most recent call last)",
      "\u001b[0;32m<ipython-input-46-f238950855de>\u001b[0m in \u001b[0;36m<module>\u001b[0;34m\u001b[0m\n\u001b[0;32m----> 1\u001b[0;31m \u001b[0mshap_values\u001b[0m \u001b[0;34m=\u001b[0m \u001b[0mexplainer\u001b[0m\u001b[0;34m.\u001b[0m\u001b[0mshap_values\u001b[0m\u001b[0;34m(\u001b[0m\u001b[0mtest_df_onehot\u001b[0m\u001b[0;34m,\u001b[0m \u001b[0mnsamples\u001b[0m\u001b[0;34m=\u001b[0m\u001b[0;36m8\u001b[0m\u001b[0;34m,\u001b[0m \u001b[0ml1_reg\u001b[0m\u001b[0;34m=\u001b[0m\u001b[0;32mFalse\u001b[0m\u001b[0;34m)\u001b[0m\u001b[0;34m\u001b[0m\u001b[0;34m\u001b[0m\u001b[0m\n\u001b[0m",
      "\u001b[0;32m~/devel/thundera/shap/shap/explainers/kernel.py\u001b[0m in \u001b[0;36mshap_values\u001b[0;34m(self, X, **kwargs)\u001b[0m\n\u001b[1;32m    218\u001b[0m                 \u001b[0;32mif\u001b[0m \u001b[0mself\u001b[0m\u001b[0;34m.\u001b[0m\u001b[0mkeep_index\u001b[0m\u001b[0;34m:\u001b[0m\u001b[0;34m\u001b[0m\u001b[0;34m\u001b[0m\u001b[0m\n\u001b[1;32m    219\u001b[0m                     \u001b[0mdata\u001b[0m \u001b[0;34m=\u001b[0m \u001b[0mconvert_to_instance_with_index\u001b[0m\u001b[0;34m(\u001b[0m\u001b[0mdata\u001b[0m\u001b[0;34m,\u001b[0m \u001b[0mcolumn_name\u001b[0m\u001b[0;34m,\u001b[0m \u001b[0mindex_value\u001b[0m\u001b[0;34m[\u001b[0m\u001b[0mi\u001b[0m\u001b[0;34m:\u001b[0m\u001b[0mi\u001b[0m \u001b[0;34m+\u001b[0m \u001b[0;36m1\u001b[0m\u001b[0;34m]\u001b[0m\u001b[0;34m,\u001b[0m \u001b[0mindex_name\u001b[0m\u001b[0;34m)\u001b[0m\u001b[0;34m\u001b[0m\u001b[0;34m\u001b[0m\u001b[0m\n\u001b[0;32m--> 220\u001b[0;31m                 \u001b[0mexplanations\u001b[0m\u001b[0;34m.\u001b[0m\u001b[0mappend\u001b[0m\u001b[0;34m(\u001b[0m\u001b[0mself\u001b[0m\u001b[0;34m.\u001b[0m\u001b[0mexplain\u001b[0m\u001b[0;34m(\u001b[0m\u001b[0mdata\u001b[0m\u001b[0;34m,\u001b[0m \u001b[0;34m**\u001b[0m\u001b[0mkwargs\u001b[0m\u001b[0;34m)\u001b[0m\u001b[0;34m)\u001b[0m\u001b[0;34m\u001b[0m\u001b[0;34m\u001b[0m\u001b[0m\n\u001b[0m\u001b[1;32m    221\u001b[0m \u001b[0;34m\u001b[0m\u001b[0m\n\u001b[1;32m    222\u001b[0m             \u001b[0;31m# vector-output\u001b[0m\u001b[0;34m\u001b[0m\u001b[0;34m\u001b[0m\u001b[0;34m\u001b[0m\u001b[0m\n",
      "\u001b[0;32m~/devel/thundera/shap/shap/explainers/kernel.py\u001b[0m in \u001b[0;36mexplain\u001b[0;34m(self, incoming_instance, **kwargs)\u001b[0m\n\u001b[1;32m    415\u001b[0m             \u001b[0mphi_var\u001b[0m \u001b[0;34m=\u001b[0m \u001b[0mnp\u001b[0m\u001b[0;34m.\u001b[0m\u001b[0mzeros\u001b[0m\u001b[0;34m(\u001b[0m\u001b[0;34m(\u001b[0m\u001b[0mself\u001b[0m\u001b[0;34m.\u001b[0m\u001b[0mdata\u001b[0m\u001b[0;34m.\u001b[0m\u001b[0mgroups_size\u001b[0m\u001b[0;34m,\u001b[0m \u001b[0mself\u001b[0m\u001b[0;34m.\u001b[0m\u001b[0mD\u001b[0m\u001b[0;34m)\u001b[0m\u001b[0;34m)\u001b[0m\u001b[0;34m\u001b[0m\u001b[0;34m\u001b[0m\u001b[0m\n\u001b[1;32m    416\u001b[0m             \u001b[0;32mfor\u001b[0m \u001b[0md\u001b[0m \u001b[0;32min\u001b[0m \u001b[0mrange\u001b[0m\u001b[0;34m(\u001b[0m\u001b[0mself\u001b[0m\u001b[0;34m.\u001b[0m\u001b[0mD\u001b[0m\u001b[0;34m)\u001b[0m\u001b[0;34m:\u001b[0m\u001b[0;34m\u001b[0m\u001b[0;34m\u001b[0m\u001b[0m\n\u001b[0;32m--> 417\u001b[0;31m                 \u001b[0mvphi\u001b[0m\u001b[0;34m,\u001b[0m \u001b[0mvphi_var\u001b[0m \u001b[0;34m=\u001b[0m \u001b[0mself\u001b[0m\u001b[0;34m.\u001b[0m\u001b[0msolve\u001b[0m\u001b[0;34m(\u001b[0m\u001b[0mself\u001b[0m\u001b[0;34m.\u001b[0m\u001b[0mnsamples\u001b[0m \u001b[0;34m/\u001b[0m \u001b[0mself\u001b[0m\u001b[0;34m.\u001b[0m\u001b[0mmax_samples\u001b[0m\u001b[0;34m,\u001b[0m \u001b[0md\u001b[0m\u001b[0;34m)\u001b[0m\u001b[0;34m\u001b[0m\u001b[0;34m\u001b[0m\u001b[0m\n\u001b[0m\u001b[1;32m    418\u001b[0m                 \u001b[0mphi\u001b[0m\u001b[0;34m[\u001b[0m\u001b[0mself\u001b[0m\u001b[0;34m.\u001b[0m\u001b[0mvaryingInds\u001b[0m\u001b[0;34m,\u001b[0m \u001b[0md\u001b[0m\u001b[0;34m]\u001b[0m \u001b[0;34m=\u001b[0m \u001b[0mvphi\u001b[0m\u001b[0;34m\u001b[0m\u001b[0;34m\u001b[0m\u001b[0m\n\u001b[1;32m    419\u001b[0m                 \u001b[0mphi_var\u001b[0m\u001b[0;34m[\u001b[0m\u001b[0mself\u001b[0m\u001b[0;34m.\u001b[0m\u001b[0mvaryingInds\u001b[0m\u001b[0;34m,\u001b[0m \u001b[0md\u001b[0m\u001b[0;34m]\u001b[0m \u001b[0;34m=\u001b[0m \u001b[0mvphi_var\u001b[0m\u001b[0;34m\u001b[0m\u001b[0;34m\u001b[0m\u001b[0m\n",
      "\u001b[0;32m~/devel/thundera/shap/shap/explainers/kernel.py\u001b[0m in \u001b[0;36msolve\u001b[0;34m(self, fraction_evaluated, dim)\u001b[0m\n\u001b[1;32m    605\u001b[0m         \u001b[0mxtwxm1\u001b[0m \u001b[0;34m=\u001b[0m \u001b[0mnp\u001b[0m\u001b[0;34m.\u001b[0m\u001b[0mdot\u001b[0m\u001b[0;34m(\u001b[0m\u001b[0mnp\u001b[0m\u001b[0;34m.\u001b[0m\u001b[0mtranspose\u001b[0m\u001b[0;34m(\u001b[0m\u001b[0mtmp\u001b[0m\u001b[0;34m)\u001b[0m\u001b[0;34m,\u001b[0m \u001b[0metmp\u001b[0m\u001b[0;34m)\u001b[0m\u001b[0;34m\u001b[0m\u001b[0;34m\u001b[0m\u001b[0m\n\u001b[1;32m    606\u001b[0m         \u001b[0mprint\u001b[0m\u001b[0;34m(\u001b[0m\u001b[0mxtwxm1\u001b[0m\u001b[0;34m)\u001b[0m\u001b[0;34m\u001b[0m\u001b[0;34m\u001b[0m\u001b[0m\n\u001b[0;32m--> 607\u001b[0;31m         \u001b[0mtmp2\u001b[0m \u001b[0;34m=\u001b[0m \u001b[0mnp\u001b[0m\u001b[0;34m.\u001b[0m\u001b[0mlinalg\u001b[0m\u001b[0;34m.\u001b[0m\u001b[0minv\u001b[0m\u001b[0;34m(\u001b[0m\u001b[0mnp\u001b[0m\u001b[0;34m.\u001b[0m\u001b[0mdot\u001b[0m\u001b[0;34m(\u001b[0m\u001b[0mnp\u001b[0m\u001b[0;34m.\u001b[0m\u001b[0mtranspose\u001b[0m\u001b[0;34m(\u001b[0m\u001b[0mtmp\u001b[0m\u001b[0;34m)\u001b[0m\u001b[0;34m,\u001b[0m \u001b[0metmp\u001b[0m\u001b[0;34m)\u001b[0m\u001b[0;34m)\u001b[0m\u001b[0;34m\u001b[0m\u001b[0;34m\u001b[0m\u001b[0m\n\u001b[0m\u001b[1;32m    608\u001b[0m         \u001b[0mw\u001b[0m \u001b[0;34m=\u001b[0m \u001b[0mnp\u001b[0m\u001b[0;34m.\u001b[0m\u001b[0mdot\u001b[0m\u001b[0;34m(\u001b[0m\u001b[0mtmp2\u001b[0m\u001b[0;34m,\u001b[0m \u001b[0mnp\u001b[0m\u001b[0;34m.\u001b[0m\u001b[0mdot\u001b[0m\u001b[0;34m(\u001b[0m\u001b[0mnp\u001b[0m\u001b[0;34m.\u001b[0m\u001b[0mtranspose\u001b[0m\u001b[0;34m(\u001b[0m\u001b[0mtmp\u001b[0m\u001b[0;34m)\u001b[0m\u001b[0;34m,\u001b[0m \u001b[0meyAdj2\u001b[0m\u001b[0;34m)\u001b[0m\u001b[0;34m)\u001b[0m\u001b[0;34m\u001b[0m\u001b[0;34m\u001b[0m\u001b[0m\n\u001b[1;32m    609\u001b[0m         \u001b[0mphi\u001b[0m \u001b[0;34m=\u001b[0m \u001b[0mnp\u001b[0m\u001b[0;34m.\u001b[0m\u001b[0mzeros\u001b[0m\u001b[0;34m(\u001b[0m\u001b[0mself\u001b[0m\u001b[0;34m.\u001b[0m\u001b[0mM\u001b[0m\u001b[0;34m)\u001b[0m\u001b[0;34m\u001b[0m\u001b[0;34m\u001b[0m\u001b[0m\n",
      "\u001b[0;32m<__array_function__ internals>\u001b[0m in \u001b[0;36minv\u001b[0;34m(*args, **kwargs)\u001b[0m\n",
      "\u001b[0;32m~/devel/thundera/famly/venv/lib/python3.6/site-packages/numpy/linalg/linalg.py\u001b[0m in \u001b[0;36minv\u001b[0;34m(a)\u001b[0m\n\u001b[1;32m    545\u001b[0m     \u001b[0msignature\u001b[0m \u001b[0;34m=\u001b[0m \u001b[0;34m'D->D'\u001b[0m \u001b[0;32mif\u001b[0m \u001b[0misComplexType\u001b[0m\u001b[0;34m(\u001b[0m\u001b[0mt\u001b[0m\u001b[0;34m)\u001b[0m \u001b[0;32melse\u001b[0m \u001b[0;34m'd->d'\u001b[0m\u001b[0;34m\u001b[0m\u001b[0;34m\u001b[0m\u001b[0m\n\u001b[1;32m    546\u001b[0m     \u001b[0mextobj\u001b[0m \u001b[0;34m=\u001b[0m \u001b[0mget_linalg_error_extobj\u001b[0m\u001b[0;34m(\u001b[0m\u001b[0m_raise_linalgerror_singular\u001b[0m\u001b[0;34m)\u001b[0m\u001b[0;34m\u001b[0m\u001b[0;34m\u001b[0m\u001b[0m\n\u001b[0;32m--> 547\u001b[0;31m     \u001b[0mainv\u001b[0m \u001b[0;34m=\u001b[0m \u001b[0m_umath_linalg\u001b[0m\u001b[0;34m.\u001b[0m\u001b[0minv\u001b[0m\u001b[0;34m(\u001b[0m\u001b[0ma\u001b[0m\u001b[0;34m,\u001b[0m \u001b[0msignature\u001b[0m\u001b[0;34m=\u001b[0m\u001b[0msignature\u001b[0m\u001b[0;34m,\u001b[0m \u001b[0mextobj\u001b[0m\u001b[0;34m=\u001b[0m\u001b[0mextobj\u001b[0m\u001b[0;34m)\u001b[0m\u001b[0;34m\u001b[0m\u001b[0;34m\u001b[0m\u001b[0m\n\u001b[0m\u001b[1;32m    548\u001b[0m     \u001b[0;32mreturn\u001b[0m \u001b[0mwrap\u001b[0m\u001b[0;34m(\u001b[0m\u001b[0mainv\u001b[0m\u001b[0;34m.\u001b[0m\u001b[0mastype\u001b[0m\u001b[0;34m(\u001b[0m\u001b[0mresult_t\u001b[0m\u001b[0;34m,\u001b[0m \u001b[0mcopy\u001b[0m\u001b[0;34m=\u001b[0m\u001b[0;32mFalse\u001b[0m\u001b[0;34m)\u001b[0m\u001b[0;34m)\u001b[0m\u001b[0;34m\u001b[0m\u001b[0;34m\u001b[0m\u001b[0m\n\u001b[1;32m    549\u001b[0m \u001b[0;34m\u001b[0m\u001b[0m\n",
      "\u001b[0;32m~/devel/thundera/famly/venv/lib/python3.6/site-packages/numpy/linalg/linalg.py\u001b[0m in \u001b[0;36m_raise_linalgerror_singular\u001b[0;34m(err, flag)\u001b[0m\n\u001b[1;32m     95\u001b[0m \u001b[0;34m\u001b[0m\u001b[0m\n\u001b[1;32m     96\u001b[0m \u001b[0;32mdef\u001b[0m \u001b[0m_raise_linalgerror_singular\u001b[0m\u001b[0;34m(\u001b[0m\u001b[0merr\u001b[0m\u001b[0;34m,\u001b[0m \u001b[0mflag\u001b[0m\u001b[0;34m)\u001b[0m\u001b[0;34m:\u001b[0m\u001b[0;34m\u001b[0m\u001b[0;34m\u001b[0m\u001b[0m\n\u001b[0;32m---> 97\u001b[0;31m     \u001b[0;32mraise\u001b[0m \u001b[0mLinAlgError\u001b[0m\u001b[0;34m(\u001b[0m\u001b[0;34m\"Singular matrix\"\u001b[0m\u001b[0;34m)\u001b[0m\u001b[0;34m\u001b[0m\u001b[0;34m\u001b[0m\u001b[0m\n\u001b[0m\u001b[1;32m     98\u001b[0m \u001b[0;34m\u001b[0m\u001b[0m\n\u001b[1;32m     99\u001b[0m \u001b[0;32mdef\u001b[0m \u001b[0m_raise_linalgerror_nonposdef\u001b[0m\u001b[0;34m(\u001b[0m\u001b[0merr\u001b[0m\u001b[0;34m,\u001b[0m \u001b[0mflag\u001b[0m\u001b[0;34m)\u001b[0m\u001b[0;34m:\u001b[0m\u001b[0;34m\u001b[0m\u001b[0;34m\u001b[0m\u001b[0m\n",
      "\u001b[0;31mLinAlgError\u001b[0m: Singular matrix"
     ]
    }
   ],
   "source": [
    "shap_values = explainer.shap_values(test_df_onehot, nsamples=8, l1_reg=False)"
   ]
  },
  {
   "cell_type": "code",
   "execution_count": 49,
   "metadata": {},
   "outputs": [
    {
     "data": {
      "text/plain": [
       "(1, 61)"
      ]
     },
     "execution_count": 49,
     "metadata": {},
     "output_type": "execute_result"
    }
   ],
   "source": [
    "lrmodel.coef_.shape"
   ]
  },
  {
   "cell_type": "code",
   "execution_count": 50,
   "metadata": {},
   "outputs": [
    {
     "data": {
      "text/plain": [
       "array([0.26075303])"
      ]
     },
     "execution_count": 50,
     "metadata": {},
     "output_type": "execute_result"
    }
   ],
   "source": [
    "lrmodel.intercept_"
   ]
  },
  {
   "cell_type": "code",
   "execution_count": 51,
   "metadata": {},
   "outputs": [
    {
     "data": {
      "text/plain": [
       "array([[ 2.99824680e-02, -1.44949817e-01,  1.26000192e-01,\n",
       "         2.43554442e-01, -2.14073176e-01,  7.13788928e-01,\n",
       "        -3.48186924e-02, -2.10309774e-01, -4.91198404e-02,\n",
       "        -1.20307440e-01, -2.35265266e-01,  1.74179180e-01,\n",
       "        -6.23821826e-01,  2.30507708e-02,  3.94267396e-01,\n",
       "        -1.29876215e-01,  7.13549359e-02,  7.50125590e-01,\n",
       "         2.90955011e-02,  4.14883254e-01,  1.16592908e-01,\n",
       "        -4.01451605e-01,  9.54672279e-02, -1.73880562e-01,\n",
       "         3.96353054e-01,  3.21147935e-02,  2.57125816e-01,\n",
       "        -2.53853059e-03,  1.45383632e-01,  2.77252705e-01,\n",
       "        -1.68049052e-01, -3.62930028e-01,  7.12086912e-01,\n",
       "         2.58895135e-02,  3.20228570e-01, -4.40687683e-01,\n",
       "        -1.68192284e-01,  1.78610423e-02,  5.71294222e-01,\n",
       "        -2.95514460e-01,  1.29138765e-01, -3.58346265e-02,\n",
       "         2.90421912e-01, -1.91193061e-02,  2.17913796e-01,\n",
       "         5.89960233e-02, -3.20322806e-03, -1.48951039e-01,\n",
       "         4.90686784e-01, -8.71484594e-02, -2.70335179e-01,\n",
       "         1.07700124e+00, -7.86876979e-01,  2.34798200e-01,\n",
       "        -2.44267516e-01, -6.20843899e-05, -6.18288268e-02,\n",
       "        -2.92402236e-02,  1.08622647e-01,  1.99697932e-02,\n",
       "        -6.40129272e-02]])"
      ]
     },
     "execution_count": 51,
     "metadata": {},
     "output_type": "execute_result"
    }
   ],
   "source": [
    "lrmodel.coef_"
   ]
  },
  {
   "cell_type": "code",
   "execution_count": 53,
   "metadata": {},
   "outputs": [
    {
     "data": {
      "text/html": [
       "<div>\n",
       "<style scoped>\n",
       "    .dataframe tbody tr th:only-of-type {\n",
       "        vertical-align: middle;\n",
       "    }\n",
       "\n",
       "    .dataframe tbody tr th {\n",
       "        vertical-align: top;\n",
       "    }\n",
       "\n",
       "    .dataframe thead th {\n",
       "        text-align: right;\n",
       "    }\n",
       "</style>\n",
       "<table border=\"1\" class=\"dataframe\">\n",
       "  <thead>\n",
       "    <tr style=\"text-align: right;\">\n",
       "      <th></th>\n",
       "      <th>SexAndStatus_female divorced/separated/married</th>\n",
       "      <th>SexAndStatus_male divorced/separated</th>\n",
       "      <th>SexAndStatus_male married/widowed</th>\n",
       "      <th>SexAndStatus_male single</th>\n",
       "      <th>Property_car or other</th>\n",
       "      <th>Property_real estate</th>\n",
       "      <th>Property_soc. savings / life insurance</th>\n",
       "      <th>Property_unknown</th>\n",
       "      <th>Purpose_appliances</th>\n",
       "      <th>Purpose_business</th>\n",
       "      <th>...</th>\n",
       "      <th>CheckingAC_Status_no checking account</th>\n",
       "      <th>CheckingAC_Status_x &lt; 0 DM</th>\n",
       "      <th>CheckingAC_Status_x &gt;= 200DM</th>\n",
       "      <th>InstalmentPctOfIncome</th>\n",
       "      <th>LoanAmount</th>\n",
       "      <th>NumExistingLoans</th>\n",
       "      <th>MaturityMonths</th>\n",
       "      <th>PresentResidenceYears</th>\n",
       "      <th>Age</th>\n",
       "      <th>Dependents</th>\n",
       "    </tr>\n",
       "  </thead>\n",
       "  <tbody>\n",
       "    <tr>\n",
       "      <th>993</th>\n",
       "      <td>0.0</td>\n",
       "      <td>0.0</td>\n",
       "      <td>0.0</td>\n",
       "      <td>1.0</td>\n",
       "      <td>0.0</td>\n",
       "      <td>0.0</td>\n",
       "      <td>1.0</td>\n",
       "      <td>0.0</td>\n",
       "      <td>0.0</td>\n",
       "      <td>0.0</td>\n",
       "      <td>...</td>\n",
       "      <td>0.0</td>\n",
       "      <td>1.0</td>\n",
       "      <td>0.0</td>\n",
       "      <td>4</td>\n",
       "      <td>3959</td>\n",
       "      <td>1</td>\n",
       "      <td>36</td>\n",
       "      <td>3</td>\n",
       "      <td>30</td>\n",
       "      <td>1</td>\n",
       "    </tr>\n",
       "    <tr>\n",
       "      <th>859</th>\n",
       "      <td>0.0</td>\n",
       "      <td>0.0</td>\n",
       "      <td>0.0</td>\n",
       "      <td>1.0</td>\n",
       "      <td>0.0</td>\n",
       "      <td>1.0</td>\n",
       "      <td>0.0</td>\n",
       "      <td>0.0</td>\n",
       "      <td>0.0</td>\n",
       "      <td>0.0</td>\n",
       "      <td>...</td>\n",
       "      <td>1.0</td>\n",
       "      <td>0.0</td>\n",
       "      <td>0.0</td>\n",
       "      <td>1</td>\n",
       "      <td>3577</td>\n",
       "      <td>1</td>\n",
       "      <td>9</td>\n",
       "      <td>2</td>\n",
       "      <td>26</td>\n",
       "      <td>2</td>\n",
       "    </tr>\n",
       "    <tr>\n",
       "      <th>298</th>\n",
       "      <td>0.0</td>\n",
       "      <td>0.0</td>\n",
       "      <td>0.0</td>\n",
       "      <td>1.0</td>\n",
       "      <td>0.0</td>\n",
       "      <td>1.0</td>\n",
       "      <td>0.0</td>\n",
       "      <td>0.0</td>\n",
       "      <td>0.0</td>\n",
       "      <td>0.0</td>\n",
       "      <td>...</td>\n",
       "      <td>1.0</td>\n",
       "      <td>0.0</td>\n",
       "      <td>0.0</td>\n",
       "      <td>3</td>\n",
       "      <td>2515</td>\n",
       "      <td>1</td>\n",
       "      <td>18</td>\n",
       "      <td>4</td>\n",
       "      <td>43</td>\n",
       "      <td>1</td>\n",
       "    </tr>\n",
       "    <tr>\n",
       "      <th>553</th>\n",
       "      <td>0.0</td>\n",
       "      <td>0.0</td>\n",
       "      <td>0.0</td>\n",
       "      <td>1.0</td>\n",
       "      <td>1.0</td>\n",
       "      <td>0.0</td>\n",
       "      <td>0.0</td>\n",
       "      <td>0.0</td>\n",
       "      <td>0.0</td>\n",
       "      <td>0.0</td>\n",
       "      <td>...</td>\n",
       "      <td>0.0</td>\n",
       "      <td>0.0</td>\n",
       "      <td>0.0</td>\n",
       "      <td>4</td>\n",
       "      <td>1995</td>\n",
       "      <td>1</td>\n",
       "      <td>12</td>\n",
       "      <td>1</td>\n",
       "      <td>27</td>\n",
       "      <td>1</td>\n",
       "    </tr>\n",
       "    <tr>\n",
       "      <th>672</th>\n",
       "      <td>0.0</td>\n",
       "      <td>0.0</td>\n",
       "      <td>0.0</td>\n",
       "      <td>1.0</td>\n",
       "      <td>0.0</td>\n",
       "      <td>0.0</td>\n",
       "      <td>1.0</td>\n",
       "      <td>0.0</td>\n",
       "      <td>0.0</td>\n",
       "      <td>0.0</td>\n",
       "      <td>...</td>\n",
       "      <td>1.0</td>\n",
       "      <td>0.0</td>\n",
       "      <td>0.0</td>\n",
       "      <td>2</td>\n",
       "      <td>10366</td>\n",
       "      <td>1</td>\n",
       "      <td>60</td>\n",
       "      <td>4</td>\n",
       "      <td>42</td>\n",
       "      <td>1</td>\n",
       "    </tr>\n",
       "  </tbody>\n",
       "</table>\n",
       "<p>5 rows × 61 columns</p>\n",
       "</div>"
      ],
      "text/plain": [
       "     SexAndStatus_female divorced/separated/married  \\\n",
       "993                                             0.0   \n",
       "859                                             0.0   \n",
       "298                                             0.0   \n",
       "553                                             0.0   \n",
       "672                                             0.0   \n",
       "\n",
       "     SexAndStatus_male divorced/separated  SexAndStatus_male married/widowed  \\\n",
       "993                                   0.0                                0.0   \n",
       "859                                   0.0                                0.0   \n",
       "298                                   0.0                                0.0   \n",
       "553                                   0.0                                0.0   \n",
       "672                                   0.0                                0.0   \n",
       "\n",
       "     SexAndStatus_male single  Property_car or other  Property_real estate  \\\n",
       "993                       1.0                    0.0                   0.0   \n",
       "859                       1.0                    0.0                   1.0   \n",
       "298                       1.0                    0.0                   1.0   \n",
       "553                       1.0                    1.0                   0.0   \n",
       "672                       1.0                    0.0                   0.0   \n",
       "\n",
       "     Property_soc. savings / life insurance  Property_unknown  \\\n",
       "993                                     1.0               0.0   \n",
       "859                                     0.0               0.0   \n",
       "298                                     0.0               0.0   \n",
       "553                                     0.0               0.0   \n",
       "672                                     1.0               0.0   \n",
       "\n",
       "     Purpose_appliances  Purpose_business  ...  \\\n",
       "993                 0.0               0.0  ...   \n",
       "859                 0.0               0.0  ...   \n",
       "298                 0.0               0.0  ...   \n",
       "553                 0.0               0.0  ...   \n",
       "672                 0.0               0.0  ...   \n",
       "\n",
       "     CheckingAC_Status_no checking account  CheckingAC_Status_x < 0 DM  \\\n",
       "993                                    0.0                         1.0   \n",
       "859                                    1.0                         0.0   \n",
       "298                                    1.0                         0.0   \n",
       "553                                    0.0                         0.0   \n",
       "672                                    1.0                         0.0   \n",
       "\n",
       "     CheckingAC_Status_x >= 200DM  InstalmentPctOfIncome  LoanAmount  \\\n",
       "993                           0.0                      4        3959   \n",
       "859                           0.0                      1        3577   \n",
       "298                           0.0                      3        2515   \n",
       "553                           0.0                      4        1995   \n",
       "672                           0.0                      2       10366   \n",
       "\n",
       "     NumExistingLoans  MaturityMonths  PresentResidenceYears  Age  Dependents  \n",
       "993                 1              36                      3   30           1  \n",
       "859                 1               9                      2   26           2  \n",
       "298                 1              18                      4   43           1  \n",
       "553                 1              12                      1   27           1  \n",
       "672                 1              60                      4   42           1  \n",
       "\n",
       "[5 rows x 61 columns]"
      ]
     },
     "execution_count": 53,
     "metadata": {},
     "output_type": "execute_result"
    }
   ],
   "source": [
    "test_df_onehot.head()"
   ]
  },
  {
   "cell_type": "code",
   "execution_count": 54,
   "metadata": {},
   "outputs": [],
   "source": [
    "import pickle"
   ]
  },
  {
   "cell_type": "code",
   "execution_count": 55,
   "metadata": {},
   "outputs": [],
   "source": [
    "with open('lr_model.pkl', 'wb') as f:\n",
    "    pickle.dump(lrmodel, f)"
   ]
  },
  {
   "cell_type": "code",
   "execution_count": 56,
   "metadata": {},
   "outputs": [],
   "source": [
    "import json"
   ]
  },
  {
   "cell_type": "code",
   "execution_count": 67,
   "metadata": {},
   "outputs": [
    {
     "data": {
      "text/plain": [
       "(1, 61)"
      ]
     },
     "execution_count": 67,
     "metadata": {},
     "output_type": "execute_result"
    }
   ],
   "source": [
    "lrmodel.coef_.shape"
   ]
  },
  {
   "cell_type": "code",
   "execution_count": 68,
   "metadata": {},
   "outputs": [
    {
     "data": {
      "text/plain": [
       "array([0.26075303])"
      ]
     },
     "execution_count": 68,
     "metadata": {},
     "output_type": "execute_result"
    }
   ],
   "source": [
    "lrmodel.intercept_"
   ]
  },
  {
   "cell_type": "code",
   "execution_count": 64,
   "metadata": {},
   "outputs": [],
   "source": [
    "import numpy as np"
   ]
  },
  {
   "cell_type": "code",
   "execution_count": 71,
   "metadata": {},
   "outputs": [],
   "source": [
    "np.save('lrmodel_w.npz',lrmodel.coef_)"
   ]
  },
  {
   "cell_type": "code",
   "execution_count": 70,
   "metadata": {},
   "outputs": [],
   "source": [
    "np.save('lrmodel_b.npz', lrmodel.intercept_)"
   ]
  },
  {
   "cell_type": "code",
   "execution_count": null,
   "metadata": {},
   "outputs": [],
   "source": [
    "test_df_onehot.to_numpy"
   ]
  }
 ],
 "metadata": {
  "kernelspec": {
   "display_name": "Python 3",
   "language": "python",
   "name": "python3"
  },
  "language_info": {
   "codemirror_mode": {
    "name": "ipython",
    "version": 3
   },
   "file_extension": ".py",
   "mimetype": "text/x-python",
   "name": "python",
   "nbconvert_exporter": "python",
   "pygments_lexer": "ipython3",
   "version": "3.6.9"
  }
 },
 "nbformat": 4,
 "nbformat_minor": 4
}
